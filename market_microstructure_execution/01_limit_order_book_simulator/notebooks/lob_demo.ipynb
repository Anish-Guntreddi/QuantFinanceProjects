{
 "cells": [
  {
   "cell_type": "markdown",
   "metadata": {},
   "source": [
    "# Limit Order Book Simulator Demo\n",
    "This notebook demonstrates the LOB simulator functionality."
   ]
  },
  {
   "cell_type": "code",
   "execution_count": null,
   "metadata": {},
   "outputs": [],
   "source": [
    "import sys\n",
    "sys.path.append('../python')\n",
    "import numpy as np\n",
    "import pandas as pd\n",
    "import matplotlib.pyplot as plt\n",
    "import seaborn as sns\n",
    "from lob.simulator import OrderBook, LOBSimulator, Side\n",
    "\n",
    "# Set style\n",
    "plt.style.use('seaborn-v0_8-darkgrid')\n",
    "sns.set_palette('husl')"
   ]
  },
  {
   "cell_type": "code",
   "execution_count": null,
   "metadata": {},
   "outputs": [],
   "source": [
    "# Create and initialize order book\n",
    "book = OrderBook(tick_size=0.01)\n",
    "\n",
    "# Add some orders\n",
    "np.random.seed(42)\n",
    "for i in range(10):\n",
    "    book.add_order(Side.BUY, 100 - i * 0.1, np.random.randint(100, 500))\n",
    "    book.add_order(Side.SELL, 100 + i * 0.1, np.random.randint(100, 500))\n",
    "\n",
    "# Get snapshot\n",
    "snapshot = book.get_snapshot()\n",
    "print(f'Mid Price: {snapshot.mid_price:.2f}')\n",
    "print(f'Spread: {snapshot.spread:.2f}')\n",
    "print(f'Best Bid: {snapshot.bids[0] if snapshot.bids else None}')\n",
    "print(f'Best Ask: {snapshot.asks[0] if snapshot.asks else None}')"
   ]
  },
  {
   "cell_type": "code",
   "execution_count": null,
   "metadata": {},
   "outputs": [],
   "source": [
    "# Run simulation\n",
    "sim = LOBSimulator(arrival_model='poisson')\n",
    "trades = sim.run_simulation(duration=60.0, snapshot_interval=1.0)\n",
    "snapshots = sim.get_snapshots_df()\n",
    "\n",
    "print(f'Number of trades: {len(trades)}')\n",
    "print(f'Number of snapshots: {len(snapshots)}')"
   ]
  },
  {
   "cell_type": "code",
   "execution_count": null,
   "metadata": {},
   "outputs": [],
   "source": [
    "# Plot results\n",
    "fig, axes = plt.subplots(2, 2, figsize=(15, 10))\n",
    "\n",
    "# Mid price evolution\n",
    "axes[0, 0].plot(snapshots['timestamp'], snapshots['mid_price'])\n",
    "axes[0, 0].set_title('Mid Price Evolution')\n",
    "axes[0, 0].set_xlabel('Time (s)')\n",
    "axes[0, 0].set_ylabel('Price')\n",
    "\n",
    "# Spread over time\n",
    "axes[0, 1].plot(snapshots['timestamp'], snapshots['spread'])\n",
    "axes[0, 1].set_title('Bid-Ask Spread')\n",
    "axes[0, 1].set_xlabel('Time (s)')\n",
    "axes[0, 1].set_ylabel('Spread')\n",
    "\n",
    "# Depth\n",
    "axes[1, 0].plot(snapshots['timestamp'], snapshots['bid_depth'], label='Bid Depth')\n",
    "axes[1, 0].plot(snapshots['timestamp'], snapshots['ask_depth'], label='Ask Depth')\n",
    "axes[1, 0].set_title('Order Book Depth')\n",
    "axes[1, 0].set_xlabel('Time (s)')\n",
    "axes[1, 0].set_ylabel('Total Quantity')\n",
    "axes[1, 0].legend()\n",
    "\n",
    "# Trade sizes\n",
    "if len(trades) > 0:\n",
    "    axes[1, 1].hist(trades['quantity'], bins=30, edgecolor='black')\n",
    "    axes[1, 1].set_title('Trade Size Distribution')\n",
    "    axes[1, 1].set_xlabel('Trade Size')\n",
    "    axes[1, 1].set_ylabel('Frequency')\n",
    "\n",
    "plt.tight_layout()\n",
    "plt.show()"
   ]
  },
  {
   "cell_type": "code",
   "execution_count": null,
   "metadata": {},
   "outputs": [],
   "source": [
    "# Market quality metrics\n",
    "metrics = sim.analyze_market_quality()\n",
    "\n",
    "print('Market Quality Metrics:')\n",
    "print('-' * 30)\n",
    "for key, value in metrics.items():\n",
    "    print(f'{key}: {value:.4f}')"
   ]
  }
 ],
 "metadata": {
  "kernelspec": {
   "display_name": "Python 3",
   "language": "python",
   "name": "python3"
  },
  "language_info": {
   "name": "python",
   "version": "3.10.0"
  }
 },
 "nbformat": 4,
 "nbformat_minor": 4
}